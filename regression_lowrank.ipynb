{
 "cells": [
  {
   "cell_type": "code",
   "execution_count": 141,
   "metadata": {},
   "outputs": [],
   "source": [
    "%matplotlib widget"
   ]
  },
  {
   "cell_type": "code",
   "execution_count": 165,
   "metadata": {},
   "outputs": [],
   "source": [
    "import numpy\n",
    "import scipy\n",
    "import scipy.optimize\n",
    "\n",
    "from matplotlib import pyplot as plot"
   ]
  },
  {
   "cell_type": "code",
   "execution_count": 166,
   "metadata": {},
   "outputs": [],
   "source": [
    "n = 10\n",
    "d_in = 20\n",
    "d_out = 20\n",
    "rank = 2"
   ]
  },
  {
   "cell_type": "code",
   "execution_count": 167,
   "metadata": {},
   "outputs": [],
   "source": [
    "''' generate data '''\n",
    "X = numpy.random.randn(n, d_in)\n",
    "A_true = numpy.dot(numpy.random.randn(d_in, rank), numpy.random.randn(d_out, rank).T) \n",
    "Y = numpy.dot(X, A_true)"
   ]
  },
  {
   "cell_type": "code",
   "execution_count": 168,
   "metadata": {},
   "outputs": [],
   "source": [
    "''' noise '''\n",
    "epsilon = numpy.random.randn(n, d_out)\n",
    "Y_noise = Y + epsilon"
   ]
  },
  {
   "cell_type": "code",
   "execution_count": 169,
   "metadata": {},
   "outputs": [],
   "source": [
    "def loss_low(W, rank, X, Y):\n",
    "    W = W.reshape([d_in+d_out, rank])\n",
    "    A = W[:d_in,:]\n",
    "    B = W[d_in:,:]\n",
    "    return ((numpy.dot(X, numpy.dot(A, B.T)) - Y) ** 2).sum(1).mean()"
   ]
  },
  {
   "cell_type": "code",
   "execution_count": 170,
   "metadata": {},
   "outputs": [],
   "source": [
    "small_rank = 4\n",
    "large_rank = 8"
   ]
  },
  {
   "cell_type": "code",
   "execution_count": 171,
   "metadata": {},
   "outputs": [
    {
     "name": "stdout",
     "output_type": "stream",
     "text": [
      "1-th trial...Done\n",
      "2-th trial...Done\n",
      "3-th trial...Done\n",
      "4-th trial...Done\n",
      "5-th trial...Done\n",
      "6-th trial...Done\n",
      "7-th trial...Done\n",
      "8-th trial...Done\n",
      "9-th trial...Done\n",
      "10-th trial...Done\n",
      "11-th trial...Done\n",
      "12-th trial...Done\n",
      "13-th trial...Done\n",
      "14-th trial...Done\n",
      "15-th trial...Done\n",
      "16-th trial...Done\n",
      "17-th trial...Done\n",
      "18-th trial...Done\n",
      "19-th trial...Done\n",
      "20-th trial...Done\n",
      "21-th trial...Done\n",
      "22-th trial...Done\n",
      "23-th trial...Done\n",
      "24-th trial...Done\n",
      "25-th trial...Done\n",
      "26-th trial...Done\n",
      "27-th trial...Done\n",
      "28-th trial...Done\n",
      "29-th trial...Done\n",
      "30-th trial...Done\n",
      "31-th trial...Done\n",
      "32-th trial...Done\n",
      "33-th trial...Done\n",
      "34-th trial...Done\n",
      "35-th trial...Done\n",
      "36-th trial...Done\n",
      "37-th trial...Done\n",
      "38-th trial...Done\n",
      "39-th trial...Done\n",
      "40-th trial...Done\n",
      "41-th trial...Done\n",
      "42-th trial...Done\n",
      "43-th trial...Done\n",
      "44-th trial...Done\n",
      "45-th trial...Done\n",
      "46-th trial...Done\n",
      "47-th trial...Done\n",
      "48-th trial...Done\n",
      "49-th trial...Done\n",
      "50-th trial...Done\n"
     ]
    }
   ],
   "source": [
    "n_trials = 50\n",
    "\n",
    "errors = []\n",
    "\n",
    "for ti in range(n_trials):\n",
    "    \n",
    "    print('{}-th trial...'.format(ti+1),end='')\n",
    "\n",
    "    ''' fit a small model '''\n",
    "    W0 = numpy.random.randn(d_in+d_out, small_rank)[:]\n",
    "    small_res = scipy.optimize.minimize(loss_low, W0, args=(small_rank, X, Y_noise), method='CG', \n",
    "                                  options={'disp': False,\n",
    "                                           'maxiter': 100}, \n",
    "                                  tol=1e-2\n",
    "                                 )\n",
    "    small_error_clean = loss_low(small_res.x, small_rank, X, Y)\n",
    "\n",
    "    ''' fit a large model '''\n",
    "    W0 = numpy.random.randn(d_in+d_out, large_rank)[:]\n",
    "    large_res = scipy.optimize.minimize(loss_low, W0, args=(large_rank, X, Y_noise), method='CG', \n",
    "                                  options={'disp': False,\n",
    "                                           'maxiter': 100}, \n",
    "                                  tol=1e-2\n",
    "                                 )\n",
    "\n",
    "    large_error_clean = loss_low(large_res.x, large_rank, X, Y)\n",
    "\n",
    "    ''' distillation '''\n",
    "    A_large = large_res.x.reshape([-1, large_rank])[:d_in,:]\n",
    "    B_large = large_res.x.reshape([-1, large_rank])[d_in:,:]\n",
    "    Y_distil = numpy.dot(X, numpy.dot(A_large, B_large.T))\n",
    "    W0 = numpy.random.randn(d_in+d_out, small_rank)[:]\n",
    "    distil_res = scipy.optimize.minimize(loss_low, W0, args=(small_rank, X, Y_distil), method='CG', \n",
    "                                  options={'disp': False,\n",
    "                                           'maxiter': 100}, \n",
    "                                  tol=1e-2\n",
    "                                 )\n",
    "\n",
    "    distil_error_clean = loss_low(distil_res.x, small_rank, X, Y)\n",
    "    \n",
    "    errors.append([small_error_clean, large_error_clean, distil_error_clean])\n",
    "    \n",
    "    print('Done')"
   ]
  },
  {
   "cell_type": "code",
   "execution_count": 175,
   "metadata": {},
   "outputs": [
    {
     "data": {
      "text/plain": [
       "array([13.40841242, 18.64377965, 13.41818219])"
      ]
     },
     "execution_count": 175,
     "metadata": {},
     "output_type": "execute_result"
    }
   ],
   "source": [
    "numpy.mean(errors, 0)"
   ]
  },
  {
   "cell_type": "code",
   "execution_count": 176,
   "metadata": {},
   "outputs": [
    {
     "data": {
      "text/plain": [
       "array([0.25825559, 0.55703543, 0.25060436])"
      ]
     },
     "execution_count": 176,
     "metadata": {},
     "output_type": "execute_result"
    }
   ],
   "source": [
    "numpy.std(errors, 0)"
   ]
  },
  {
   "cell_type": "code",
   "execution_count": 178,
   "metadata": {},
   "outputs": [
    {
     "data": {
      "application/vnd.jupyter.widget-view+json": {
       "model_id": "06f48693a76e49a7bcfb0bb034947634",
       "version_major": 2,
       "version_minor": 0
      },
      "text/plain": [
       "FigureCanvasNbAgg()"
      ]
     },
     "metadata": {},
     "output_type": "display_data"
    }
   ],
   "source": [
    "plot.figure()\n",
    "\n",
    "errors = numpy.array(errors)\n",
    "plot.plot(errors[:, 0], errors[:, 2], 'x')\n",
    "# plot.plot(errors[:, 1], errors[:, 2], 'o')\n",
    "\n",
    "plot.xlabel('small')\n",
    "plot.ylabel('distil')\n",
    "plot.ylim(plot.xlim())\n",
    "plot.grid(True)\n",
    "plot.tight_layout()\n",
    "plot.show()"
   ]
  },
  {
   "cell_type": "code",
   "execution_count": null,
   "metadata": {},
   "outputs": [],
   "source": []
  }
 ],
 "metadata": {
  "kernelspec": {
   "display_name": "Python 3",
   "language": "python",
   "name": "python3"
  },
  "language_info": {
   "codemirror_mode": {
    "name": "ipython",
    "version": 3
   },
   "file_extension": ".py",
   "mimetype": "text/x-python",
   "name": "python",
   "nbconvert_exporter": "python",
   "pygments_lexer": "ipython3",
   "version": "3.6.6"
  }
 },
 "nbformat": 4,
 "nbformat_minor": 2
}
